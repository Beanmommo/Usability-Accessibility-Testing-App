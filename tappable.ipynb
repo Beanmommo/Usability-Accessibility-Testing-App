{
  "cells": [
    {
      "cell_type": "markdown",
      "id": "lRIs1xKv9Cqb",
      "metadata": {
        "id": "lRIs1xKv9Cqb"
      },
      "source": [
        "https://github.com/google-research/google-research/tree/master/taperception\n",
        "\n",
        "https://dl.acm.org/doi/fullHtml/10.1145/3491102.3517497#BibPLXBIB0037\n",
        "\n",
        "Adding notebook to github for version control. \n",
        "Download images from google drive to local, or run in Google colab and mount drive."
      ]
    },
    {
      "cell_type": "code",
      "execution_count": null,
      "id": "hTr0SCVXoV7L",
      "metadata": {
        "colab": {
          "base_uri": "https://localhost:8080/"
        },
        "id": "hTr0SCVXoV7L",
        "outputId": "4e57ba9c-df1e-4e84-f9c4-36a5fc0ff50d"
      },
      "outputs": [],
      "source": [
        "pip install torchvision numpy pandas scikit-image"
      ]
    },
    {
      "cell_type": "code",
      "execution_count": 8,
      "id": "ec2d4847",
      "metadata": {
        "id": "ec2d4847"
      },
      "outputs": [],
      "source": [
        "#Imports \n",
        "import pandas as pd\n",
        "import json\n",
        "import numpy as np\n",
        "import re\n",
        "import os\n",
        "import torch\n",
        "import torch.nn as nn\n",
        "import torch.optim as optim\n",
        "from torch.optim import lr_scheduler\n",
        "import torch.backends.cudnn as cudnn\n",
        "import torchvision\n",
        "from torchvision import datasets, models, transforms, utils\n",
        "from torch.utils.data import Dataset, DataLoader\n",
        "from skimage import io, transform\n",
        "import torchvision.models as models"
      ]
    },
    {
      "cell_type": "code",
      "execution_count": 9,
      "id": "BA1l0kE4xf7L",
      "metadata": {
        "colab": {
          "base_uri": "https://localhost:8080/"
        },
        "id": "BA1l0kE4xf7L",
        "outputId": "0294552a-f853-455e-f661-4398691228ef"
      },
      "outputs": [
        {
          "data": {
            "text/plain": [
              "<torch._C.Generator at 0x7fab309dec90>"
            ]
          },
          "execution_count": 9,
          "metadata": {},
          "output_type": "execute_result"
        }
      ],
      "source": [
        "DEVICE = \"cuda\" if torch.cuda.is_available() else \"cpu\"\n",
        "torch.manual_seed(42)"
      ]
    },
    {
      "cell_type": "code",
      "execution_count": 10,
      "id": "fcf032a1",
      "metadata": {
        "id": "fcf032a1"
      },
      "outputs": [],
      "source": [
        "dataset = pd.read_csv('https://raw.githubusercontent.com/google-research-datasets/taperception/main/rico_tap_annotations_idsonly.csv')\n",
        "\n",
        "json_path = #ADD PATH\n",
        "img_list_train = #ADD PATH\n",
        "img_list_test = #ADD PATH\n",
        "test_image_dir = #ADD PATH\n",
        "train_image_dir = #ADD PATH"
      ]
    },
    {
      "cell_type": "code",
      "execution_count": 11,
      "id": "ebdb0c42",
      "metadata": {
        "colab": {
          "base_uri": "https://localhost:8080/",
          "height": 206
        },
        "id": "ebdb0c42",
        "outputId": "fcd7a926-eb22-4de8-d068-be2087df78ef"
      },
      "outputs": [
        {
          "data": {
            "text/html": [
              "<div>\n",
              "<style scoped>\n",
              "    .dataframe tbody tr th:only-of-type {\n",
              "        vertical-align: middle;\n",
              "    }\n",
              "\n",
              "    .dataframe tbody tr th {\n",
              "        vertical-align: top;\n",
              "    }\n",
              "\n",
              "    .dataframe thead th {\n",
              "        text-align: right;\n",
              "    }\n",
              "</style>\n",
              "<table border=\"1\" class=\"dataframe\">\n",
              "  <thead>\n",
              "    <tr style=\"text-align: right;\">\n",
              "      <th></th>\n",
              "      <th>img_id</th>\n",
              "      <th>object_id</th>\n",
              "      <th>label</th>\n",
              "      <th>raters_marked_tappable</th>\n",
              "      <th>split</th>\n",
              "    </tr>\n",
              "  </thead>\n",
              "  <tbody>\n",
              "    <tr>\n",
              "      <th>0</th>\n",
              "      <td>48694</td>\n",
              "      <td>baf602f</td>\n",
              "      <td>0</td>\n",
              "      <td>5</td>\n",
              "      <td>train</td>\n",
              "    </tr>\n",
              "    <tr>\n",
              "      <th>1</th>\n",
              "      <td>57047</td>\n",
              "      <td>7263013</td>\n",
              "      <td>0</td>\n",
              "      <td>4</td>\n",
              "      <td>train</td>\n",
              "    </tr>\n",
              "    <tr>\n",
              "      <th>2</th>\n",
              "      <td>8663</td>\n",
              "      <td>5707070</td>\n",
              "      <td>0</td>\n",
              "      <td>5</td>\n",
              "      <td>train</td>\n",
              "    </tr>\n",
              "    <tr>\n",
              "      <th>3</th>\n",
              "      <td>57274</td>\n",
              "      <td>4019ce3</td>\n",
              "      <td>1</td>\n",
              "      <td>1</td>\n",
              "      <td>train</td>\n",
              "    </tr>\n",
              "    <tr>\n",
              "      <th>4</th>\n",
              "      <td>69212</td>\n",
              "      <td>1e61f08</td>\n",
              "      <td>0</td>\n",
              "      <td>3</td>\n",
              "      <td>train</td>\n",
              "    </tr>\n",
              "  </tbody>\n",
              "</table>\n",
              "</div>"
            ],
            "text/plain": [
              "   img_id object_id  label  raters_marked_tappable  split\n",
              "0   48694   baf602f      0                       5  train\n",
              "1   57047   7263013      0                       4  train\n",
              "2    8663   5707070      0                       5  train\n",
              "3   57274   4019ce3      1                       1  train\n",
              "4   69212   1e61f08      0                       3  train"
            ]
          },
          "execution_count": 11,
          "metadata": {},
          "output_type": "execute_result"
        }
      ],
      "source": [
        "dataset.head()"
      ]
    },
    {
      "cell_type": "code",
      "execution_count": 12,
      "id": "2ab38b07",
      "metadata": {
        "colab": {
          "base_uri": "https://localhost:8080/",
          "height": 300
        },
        "id": "2ab38b07",
        "outputId": "754c522f-23b1-4190-a942-9e3a5c55739d"
      },
      "outputs": [
        {
          "data": {
            "text/html": [
              "<div>\n",
              "<style scoped>\n",
              "    .dataframe tbody tr th:only-of-type {\n",
              "        vertical-align: middle;\n",
              "    }\n",
              "\n",
              "    .dataframe tbody tr th {\n",
              "        vertical-align: top;\n",
              "    }\n",
              "\n",
              "    .dataframe thead th {\n",
              "        text-align: right;\n",
              "    }\n",
              "</style>\n",
              "<table border=\"1\" class=\"dataframe\">\n",
              "  <thead>\n",
              "    <tr style=\"text-align: right;\">\n",
              "      <th></th>\n",
              "      <th>img_id</th>\n",
              "      <th>label</th>\n",
              "      <th>raters_marked_tappable</th>\n",
              "    </tr>\n",
              "  </thead>\n",
              "  <tbody>\n",
              "    <tr>\n",
              "      <th>count</th>\n",
              "      <td>18667.000000</td>\n",
              "      <td>18667.000000</td>\n",
              "      <td>18667.000000</td>\n",
              "    </tr>\n",
              "    <tr>\n",
              "      <th>mean</th>\n",
              "      <td>37148.980661</td>\n",
              "      <td>0.326780</td>\n",
              "      <td>3.282316</td>\n",
              "    </tr>\n",
              "    <tr>\n",
              "      <th>std</th>\n",
              "      <td>21074.699714</td>\n",
              "      <td>0.469049</td>\n",
              "      <td>1.711987</td>\n",
              "    </tr>\n",
              "    <tr>\n",
              "      <th>min</th>\n",
              "      <td>3.000000</td>\n",
              "      <td>0.000000</td>\n",
              "      <td>0.000000</td>\n",
              "    </tr>\n",
              "    <tr>\n",
              "      <th>25%</th>\n",
              "      <td>19060.000000</td>\n",
              "      <td>0.000000</td>\n",
              "      <td>2.000000</td>\n",
              "    </tr>\n",
              "    <tr>\n",
              "      <th>50%</th>\n",
              "      <td>38054.000000</td>\n",
              "      <td>0.000000</td>\n",
              "      <td>4.000000</td>\n",
              "    </tr>\n",
              "    <tr>\n",
              "      <th>75%</th>\n",
              "      <td>55180.000000</td>\n",
              "      <td>1.000000</td>\n",
              "      <td>5.000000</td>\n",
              "    </tr>\n",
              "    <tr>\n",
              "      <th>max</th>\n",
              "      <td>72210.000000</td>\n",
              "      <td>1.000000</td>\n",
              "      <td>5.000000</td>\n",
              "    </tr>\n",
              "  </tbody>\n",
              "</table>\n",
              "</div>"
            ],
            "text/plain": [
              "             img_id         label  raters_marked_tappable\n",
              "count  18667.000000  18667.000000            18667.000000\n",
              "mean   37148.980661      0.326780                3.282316\n",
              "std    21074.699714      0.469049                1.711987\n",
              "min        3.000000      0.000000                0.000000\n",
              "25%    19060.000000      0.000000                2.000000\n",
              "50%    38054.000000      0.000000                4.000000\n",
              "75%    55180.000000      1.000000                5.000000\n",
              "max    72210.000000      1.000000                5.000000"
            ]
          },
          "execution_count": 12,
          "metadata": {},
          "output_type": "execute_result"
        }
      ],
      "source": [
        "dataset.describe()"
      ]
    },
    {
      "cell_type": "code",
      "execution_count": 13,
      "id": "39c2c58e",
      "metadata": {
        "id": "39c2c58e"
      },
      "outputs": [],
      "source": [
        "class image:\n",
        "    \n",
        "    def __init__(self, dic, object_id):\n",
        "        self.dic = dic\n",
        "   \n",
        "        #image \n",
        "        self.image_bounds = self.dic['activity']['root']['rel-bounds']\n",
        "        self.image_bounds_height = self.image_bounds[3]\n",
        "        self.image_bounds_width = self.image_bounds[2]\n",
        "        \n",
        "        #object\n",
        "        self.object_bounds = []\n",
        "        self.object_id = object_id\n",
        "        self.find_object_bounds(self.dic)\n",
        "    \n",
        "    def find_object_bounds(self, dic):\n",
        "        for key in dic:\n",
        "            if key == 'pointer' and dic['pointer'] == self.object_id:\n",
        "                self.object_bounds = dic['rel-bounds']\n",
        "            if isinstance(dic[key], dict):\n",
        "                self.find_object_bounds(dic[key])\n",
        "            elif isinstance(dic[key], list):\n",
        "                self.find_object_bounds_lst(dic[key])\n",
        "\n",
        "    def find_object_bounds_lst(self, lst):\n",
        "        for item in lst:\n",
        "            if isinstance(item, dict):\n",
        "                self.find_object_bounds(item)\n",
        "            elif isinstance(item, list):\n",
        "                self.find_object_bounds_lst(item)\n",
        "                \n",
        "    def get_object_bounds(self):\n",
        "        return self.object_bounds\n",
        "    \n",
        "    def get_image_bounds_height(self):\n",
        "        return self.image_bounds_height\n",
        "\n",
        "    def get_image_bounds_width(self):\n",
        "        return self.image_bounds_width"
      ]
    },
    {
      "cell_type": "code",
      "execution_count": 14,
      "id": "4260eb7b",
      "metadata": {
        "id": "4260eb7b"
      },
      "outputs": [],
      "source": [
        "def get_object_bounds(image_id, object_id):\n",
        "    json_file = open(json_path + str(image_id) + '.json')\n",
        "    image_json = json.load(json_file)\n",
        "    ij = image(image_json, object_id)\n",
        "    return ij.get_object_bounds(), ij.get_image_bounds_height(), ij.get_image_bounds_width()"
      ]
    },
    {
      "cell_type": "code",
      "execution_count": 15,
      "id": "691e0e84",
      "metadata": {
        "id": "691e0e84"
      },
      "outputs": [],
      "source": [
        "class applyMask(object):\n",
        "\n",
        "    def __call__(self, sample):\n",
        "        \n",
        "        image = sample['image']\n",
        "        \n",
        "        object_bounds, height, width = get_object_bounds(sample['image_id'], sample['object_id'])\n",
        "        \n",
        "        binary_mask = np.zeros(shape=(image.shape[0], image.shape[1]))\n",
        "        x_ratio_min = object_bounds[0]/width\n",
        "        x_ratio_max = object_bounds[2]/width\n",
        "        y_ratio_min = object_bounds[1]/height\n",
        "        y_ratio_max = object_bounds[3]/height\n",
        "        \n",
        "        for x in range(image.shape[0]):\n",
        "            for y in range(image.shape[1]):\n",
        "                if x_ratio_min <= x/image.shape[0] < x_ratio_max and y_ratio_min <= y/image.shape[1] < y_ratio_max:\n",
        "                    binary_mask[x,y] = 1\n",
        "        concat = np.dstack((image, binary_mask))\n",
        "    \n",
        "        return {'image': concat, 'label': sample['label']}\n",
        "    \n",
        "class ToTensor(object):\n",
        "    \"\"\"Convert ndarrays in sample to Tensors.\"\"\"\n",
        "\n",
        "    def __call__(self, sample):\n",
        "        image, label = sample['image'], sample['label']\n",
        "\n",
        "        # swap color axis because\n",
        "        # numpy image: H x W x C\n",
        "        # torch image: C x H x W\n",
        "        image = image.transpose((2, 0, 1))\n",
        "        return {'image': torch.from_numpy(image),\n",
        "                'label': label}\n",
        "    "
      ]
    },
    {
      "cell_type": "code",
      "execution_count": 16,
      "id": "1a1e7f4a",
      "metadata": {
        "id": "1a1e7f4a"
      },
      "outputs": [],
      "source": [
        "class Tappable(Dataset):\n",
        "\n",
        "    def __init__(self, img_list, root_dir, transform=None):\n",
        "        \"\"\"\n",
        "        Args:\n",
        "            csv_file (string): Path to the csv file with annotations.\n",
        "            root_dir (string): Directory with all the images.\n",
        "            transform (callable, optional): Optional transform to be applied\n",
        "                on a sample.\n",
        "        \"\"\"\n",
        "        self.img_list = pd.read_csv(img_list)\n",
        "        self.root_dir = root_dir\n",
        "        self.transform = transform\n",
        "\n",
        "    def __len__(self):\n",
        "        return len(self.img_list)\n",
        "\n",
        "    def __getitem__(self, idx):\n",
        "        if torch.is_tensor(idx):\n",
        "            idx = idx.tolist()\n",
        "\n",
        "        img_name = os.path.join(self.root_dir,\n",
        "                                self.img_list.iloc[idx, 0])\n",
        "        \n",
        "        image = io.imread(img_name)\n",
        "        image = transform.resize(image, (960, 540))\n",
        "        \n",
        "        image_id = re.match(r\"(\\d+)_*\",self.img_list.iloc[idx, 0]).group(1)\n",
        "        object_id = re.match(r\"\\d+_(.+).jpg\",self.img_list.iloc[idx, 0]).group(1)\n",
        "        \n",
        "        label = dataset.loc[(dataset['img_id']==int(image_id)) & (dataset['object_id']==str(object_id))]['label']\n",
        "        \n",
        "        sample = {'image': image, 'image_id': image_id, 'object_id': object_id, 'label': int(label) }\n",
        "        \n",
        "        if self.transform:\n",
        "            sample_out = self.transform(sample)\n",
        "\n",
        "        return sample_out"
      ]
    },
    {
      "cell_type": "code",
      "execution_count": 17,
      "id": "5f65e294",
      "metadata": {
        "id": "5f65e294"
      },
      "outputs": [],
      "source": [
        "dataset_train = Tappable(img_list= img_list_train,\n",
        "                         root_dir= train_image_dir,\n",
        "                         transform=transforms.Compose([\n",
        "                         applyMask(),\n",
        "                         ToTensor()\n",
        "                         ]))\n",
        "\n",
        "dataset_test = Tappable(img_list=img_list_test,\n",
        "                        root_dir= test_image_dir,\n",
        "                        transform=transforms.Compose([\n",
        "                        applyMask(),\n",
        "                        ToTensor()\n",
        "                        ]))\n",
        "#batch size should be 1024\n",
        "dataloader_train = DataLoader(dataset_train,batch_size=20, shuffle=True, pin_memory=True if DEVICE == \"cuda\" else False)\n",
        "dataloader_test = DataLoader(dataset_test,batch_size=20, shuffle=True, pin_memory=True if DEVICE == \"cuda\" else False)"
      ]
    },
    {
      "cell_type": "code",
      "execution_count": 19,
      "id": "gbq-rDlFYQ69",
      "metadata": {
        "id": "gbq-rDlFYQ69"
      },
      "outputs": [],
      "source": [
        "class Block(nn.Module):\n",
        "    def __init__(self, num_layers, in_channels, out_channels, identity_downsample=None, stride=1):\n",
        "        super(Block, self).__init__()\n",
        "        self.num_layers = num_layers\n",
        "        self.expansion = 1\n",
        "        self.conv1 = nn.Conv2d(in_channels, out_channels, kernel_size=1, stride=1, padding=0)\n",
        "        self.bn1 = nn.BatchNorm2d(out_channels)\n",
        "        self.conv2 = nn.Conv2d(in_channels, out_channels, kernel_size=3, stride=stride, padding=1)\n",
        "        self.bn2 = nn.BatchNorm2d(out_channels)\n",
        "        self.conv3 = nn.Conv2d(out_channels, out_channels * self.expansion, kernel_size=1, stride=1, padding=0)\n",
        "        self.bn3 = nn.BatchNorm2d(out_channels * self.expansion)\n",
        "        self.relu = nn.ReLU()\n",
        "        self.identity_downsample = identity_downsample\n",
        "\n",
        "    def forward(self, x):\n",
        "        identity = x\n",
        "        x = self.conv2(x)\n",
        "        x = self.bn2(x)\n",
        "        x = self.relu(x)\n",
        "        x = self.conv3(x)\n",
        "        x = self.bn3(x)\n",
        "\n",
        "        if self.identity_downsample is not None:\n",
        "            identity = self.identity_downsample(identity)\n",
        "\n",
        "        x += identity\n",
        "        x = self.relu(x)\n",
        "        return x\n",
        "\n",
        "class ResNet(nn.Module):\n",
        "    def __init__(self, num_layers, block, image_channels, num_classes):\n",
        "        super(ResNet, self).__init__()\n",
        "        self.expansion = 1\n",
        "        layers = [2, 2, 2, 2] #resnet 18\n",
        "        self.in_channels = 64\n",
        "        self.conv1 = nn.Conv2d(image_channels, 64, kernel_size=7, stride=2, padding=3)\n",
        "        self.bn1 = nn.BatchNorm2d(64)\n",
        "        self.relu = nn.ReLU()\n",
        "        self.maxpool = nn.MaxPool2d(kernel_size=3, stride=2, padding=1)\n",
        "\n",
        "        # ResNetLayers\n",
        "        self.layer1 = self.make_layers(num_layers, block, layers[0], intermediate_channels=64, stride=1)\n",
        "        self.layer2 = self.make_layers(num_layers, block, layers[1], intermediate_channels=128, stride=2)\n",
        "        self.layer3 = self.make_layers(num_layers, block, layers[2], intermediate_channels=256, stride=2)\n",
        "        self.layer4 = self.make_layers(num_layers, block, layers[3], intermediate_channels=512, stride=2)\n",
        "\n",
        "        self.avgpool = nn.AdaptiveAvgPool2d((1, 1))\n",
        "        self.fc = nn.Linear(512 * self.expansion, num_classes)\n",
        "\n",
        "    def forward(self, x):\n",
        "        x = self.conv1(x)\n",
        "        x = self.bn1(x)\n",
        "        x = self.relu(x)\n",
        "        x = self.maxpool(x)\n",
        "\n",
        "        x = self.layer1(x)\n",
        "        x = self.layer2(x)\n",
        "        x = self.layer3(x)\n",
        "        x = self.layer4(x)\n",
        "\n",
        "        x = self.avgpool(x)\n",
        "        x = x.reshape(x.shape[0], -1)\n",
        "        x = self.fc(x)\n",
        "        return x\n",
        "\n",
        "    def make_layers(self, num_layers, block, num_residual_blocks, intermediate_channels, stride):\n",
        "        layers = []\n",
        "\n",
        "        identity_downsample = nn.Sequential(nn.Conv2d(self.in_channels, intermediate_channels*self.expansion, kernel_size=1, stride=stride),\n",
        "                                            nn.BatchNorm2d(intermediate_channels*self.expansion))\n",
        "        layers.append(block(num_layers, self.in_channels, intermediate_channels, identity_downsample, stride))\n",
        "        self.in_channels = intermediate_channels * self.expansion\n",
        "        for i in range(num_residual_blocks - 1):\n",
        "            layers.append(block(num_layers, self.in_channels, intermediate_channels)) \n",
        "        return nn.Sequential(*layers)\n",
        "\n",
        "def ResNet18(img_channels=4, num_classes=1000):\n",
        "    return ResNet(18, Block, img_channels, num_classes)"
      ]
    },
    {
      "cell_type": "code",
      "execution_count": 20,
      "id": "616441da",
      "metadata": {
        "id": "616441da"
      },
      "outputs": [],
      "source": [
        "model = ResNet18()\n",
        "model = model.to(DEVICE)\n",
        "\n",
        "criterion = nn.CrossEntropyLoss()\n",
        "optimizer = optim.SGD(model.parameters(), lr=0.05, nesterov=True, momentum = 0.9)\n",
        "\n",
        "lambda_lr = lambda epoch: 0.1 ** epoch if epoch in [100, 500, 1000, 1300] else 1\n",
        "\n",
        "lr_scheduler = optim.lr_scheduler.LambdaLR(\n",
        "   optimizer=optimizer,\n",
        "   lr_lambda = lambda_lr\n",
        ")"
      ]
    },
    {
      "cell_type": "code",
      "execution_count": 24,
      "id": "89da90f1",
      "metadata": {
        "colab": {
          "background_save": true,
          "base_uri": "https://localhost:8080/"
        },
        "id": "89da90f1",
        "outputId": "a4293eeb-724d-46b3-f1ef-fad32583ece1"
      },
      "outputs": [
        {
          "name": "stdout",
          "output_type": "stream",
          "text": [
            "Epoch 1\n",
            "\n",
            "Epoch [1/3], Step [0/102], Train Loss: 1.5676\n",
            "Epoch [1/3], Step [20/102], Train Loss: 2.1983\n"
          ]
        }
      ],
      "source": [
        "n_epochs = 3 #should be 1500\n",
        "test_loss = []\n",
        "train_loss = []\n",
        "total_step = len(dataloader_train)\n",
        "valid_loss_min = np.Inf\n",
        "\n",
        "for epoch in range(1, n_epochs+1):\n",
        "    model.train()\n",
        "    running_loss = 0.0\n",
        "    print(f'Epoch {epoch}\\n')\n",
        "    for batch_idx, item in enumerate(dataloader_train):\n",
        "        inputs, labels = item['image'].type(torch.FloatTensor).to(DEVICE), item['label'].type(torch.LongTensor).to(DEVICE)\n",
        "        optimizer.zero_grad()\n",
        "        outputs = model(inputs)\n",
        "        loss = criterion(outputs, labels)\n",
        "        loss.backward()\n",
        "        optimizer.step()\n",
        "        running_loss += loss.item()\n",
        "        if (batch_idx) % 20 == 0:\n",
        "            print('Epoch [{}/{}], Step [{}/{}], Train Loss: {:.4f}'\n",
        "                   .format(epoch, n_epochs, batch_idx, total_step, loss.item()))\n",
        "    train_loss.append(running_loss/total_step)\n",
        "    lr_scheduler.step()\n",
        "\n",
        "    model.eval()\n",
        "    batch_loss = 0\n",
        "    for batch_idx, item in enumerate(dataloader_test):\n",
        "      data_t, target_t = item['image'].type(torch.FloatTensor).to(DEVICE), item['label'].type(torch.LongTensor).to(DEVICE)\n",
        "      outputs_t = model(data_t)\n",
        "      loss_t = criterion(outputs_t, target_t)\n",
        "      batch_loss += loss_t.item()\n",
        "      if (batch_idx) % 20 == 0:\n",
        "            print('Epoch [{}/{}], Step [{}/{}], Test Loss: {:.4f}'\n",
        "                   .format(epoch, n_epochs, batch_idx, len(dataloader_test), loss_t.item()))\n",
        "\n",
        "    test_loss.append(batch_loss/len(dataloader_test))\n",
        "\n",
        "    print(f'\\ntrain-loss: {np.mean(train_loss):.4f}, test-loss: {np.mean(test_loss):.4f}')\n",
        "\n",
        "    network_learned = batch_loss < valid_loss_min\n",
        "\n",
        "    if network_learned:\n",
        "          valid_loss_min = batch_loss\n",
        "          torch.save(model.state_dict(), 'resnet.pt')\n",
        "          print('Improvement-Detected, save-model')"
      ]
    },
    {
      "cell_type": "code",
      "execution_count": null,
      "id": "0PSaL4K9QQka",
      "metadata": {
        "id": "0PSaL4K9QQka"
      },
      "outputs": [],
      "source": [
        "torch.save(model.state_dict(), 'resnet2.pt')"
      ]
    }
  ],
  "metadata": {
    "accelerator": "GPU",
    "colab": {
      "collapsed_sections": [],
      "name": "tappable.ipynb",
      "provenance": []
    },
    "gpuClass": "standard",
    "kernelspec": {
      "display_name": "Python 3.9.7 ('base')",
      "language": "python",
      "name": "python3"
    },
    "language_info": {
      "codemirror_mode": {
        "name": "ipython",
        "version": 3
      },
      "file_extension": ".py",
      "mimetype": "text/x-python",
      "name": "python",
      "nbconvert_exporter": "python",
      "pygments_lexer": "ipython3",
      "version": "3.9.7"
    },
    "vscode": {
      "interpreter": {
        "hash": "c5a28e5841be765f89a9b807fd5a64e7928db74c4476b7d449fcf0de95a8705a"
      }
    }
  },
  "nbformat": 4,
  "nbformat_minor": 5
}
