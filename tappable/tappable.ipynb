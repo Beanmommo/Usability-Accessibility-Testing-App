{
  "cells": [
    {
      "cell_type": "markdown",
      "id": "lRIs1xKv9Cqb",
      "metadata": {
        "id": "lRIs1xKv9Cqb"
      },
      "source": [
        "https://github.com/google-research/google-research/tree/master/taperception\n",
        "\n",
        "https://dl.acm.org/doi/fullHtml/10.1145/3491102.3517497#BibPLXBIB0037\n",
        "\n",
        "Adding notebook to github for version control. \n",
        "Download json_dir and image_dir from google drive to local, or run in Google colab and mount drive."
      ]
    },
    {
      "cell_type": "code",
      "execution_count": 1,
      "id": "hTr0SCVXoV7L",
      "metadata": {
        "colab": {
          "base_uri": "https://localhost:8080/"
        },
        "id": "hTr0SCVXoV7L",
        "outputId": "4e57ba9c-df1e-4e84-f9c4-36a5fc0ff50d"
      },
      "outputs": [
        {
          "name": "stdout",
          "output_type": "stream",
          "text": [
            "Collecting torchvision\n",
            "  Downloading torchvision-0.13.0-cp310-cp310-macosx_11_0_arm64.whl (1.2 MB)\n",
            "\u001b[2K     \u001b[90m━━━━━━━━━━━━━━━━━━━━━━━━━━━━━━━━━━━━━━━━\u001b[0m \u001b[32m1.2/1.2 MB\u001b[0m \u001b[31m1.4 MB/s\u001b[0m eta \u001b[36m0:00:00\u001b[0m00:01\u001b[0m00:01\u001b[0m0m\n",
            "\u001b[?25hRequirement already satisfied: numpy in /Users/em.ily/miniforge3/envs/fit3170/lib/python3.10/site-packages (1.23.1)\n",
            "Requirement already satisfied: pandas in /Users/em.ily/miniforge3/envs/fit3170/lib/python3.10/site-packages (1.4.3)\n",
            "Requirement already satisfied: scikit-image in /Users/em.ily/miniforge3/envs/fit3170/lib/python3.10/site-packages (0.19.3)\n",
            "Requirement already satisfied: typing-extensions in /Users/em.ily/miniforge3/envs/fit3170/lib/python3.10/site-packages (from torchvision) (4.3.0)\n",
            "Requirement already satisfied: pillow!=8.3.*,>=5.3.0 in /Users/em.ily/miniforge3/envs/fit3170/lib/python3.10/site-packages (from torchvision) (9.2.0)\n",
            "Requirement already satisfied: torch in /Users/em.ily/miniforge3/envs/fit3170/lib/python3.10/site-packages (from torchvision) (1.12.0)\n",
            "Collecting requests\n",
            "  Using cached requests-2.28.1-py3-none-any.whl (62 kB)\n",
            "Requirement already satisfied: python-dateutil>=2.8.1 in /Users/em.ily/miniforge3/envs/fit3170/lib/python3.10/site-packages (from pandas) (2.8.2)\n",
            "Requirement already satisfied: pytz>=2020.1 in /Users/em.ily/miniforge3/envs/fit3170/lib/python3.10/site-packages (from pandas) (2022.1)\n",
            "Requirement already satisfied: tifffile>=2019.7.26 in /Users/em.ily/miniforge3/envs/fit3170/lib/python3.10/site-packages (from scikit-image) (2022.8.3)\n",
            "Requirement already satisfied: PyWavelets>=1.1.1 in /Users/em.ily/miniforge3/envs/fit3170/lib/python3.10/site-packages (from scikit-image) (1.3.0)\n",
            "Requirement already satisfied: packaging>=20.0 in /Users/em.ily/miniforge3/envs/fit3170/lib/python3.10/site-packages (from scikit-image) (21.3)\n",
            "Requirement already satisfied: scipy>=1.4.1 in /Users/em.ily/miniforge3/envs/fit3170/lib/python3.10/site-packages (from scikit-image) (1.9.0)\n",
            "Requirement already satisfied: imageio>=2.4.1 in /Users/em.ily/miniforge3/envs/fit3170/lib/python3.10/site-packages (from scikit-image) (2.21.0)\n",
            "Requirement already satisfied: networkx>=2.2 in /Users/em.ily/miniforge3/envs/fit3170/lib/python3.10/site-packages (from scikit-image) (2.8.5)\n",
            "Requirement already satisfied: pyparsing!=3.0.5,>=2.0.2 in /Users/em.ily/miniforge3/envs/fit3170/lib/python3.10/site-packages (from packaging>=20.0->scikit-image) (3.0.9)\n",
            "Requirement already satisfied: six>=1.5 in /Users/em.ily/miniforge3/envs/fit3170/lib/python3.10/site-packages (from python-dateutil>=2.8.1->pandas) (1.16.0)\n",
            "Collecting urllib3<1.27,>=1.21.1\n",
            "  Using cached urllib3-1.26.11-py2.py3-none-any.whl (139 kB)\n",
            "Collecting certifi>=2017.4.17\n",
            "  Using cached certifi-2022.6.15-py3-none-any.whl (160 kB)\n",
            "Collecting charset-normalizer<3,>=2\n",
            "  Using cached charset_normalizer-2.1.0-py3-none-any.whl (39 kB)\n",
            "Collecting idna<4,>=2.5\n",
            "  Using cached idna-3.3-py3-none-any.whl (61 kB)\n",
            "Installing collected packages: urllib3, idna, charset-normalizer, certifi, requests, torchvision\n",
            "Successfully installed certifi-2022.6.15 charset-normalizer-2.1.0 idna-3.3 requests-2.28.1 torchvision-0.13.0 urllib3-1.26.11\n",
            "Note: you may need to restart the kernel to use updated packages.\n"
          ]
        }
      ],
      "source": [
        "pip install torchvision numpy pandas scikit-image"
      ]
    },
    {
      "cell_type": "code",
      "execution_count": 2,
      "id": "ec2d4847",
      "metadata": {
        "id": "ec2d4847"
      },
      "outputs": [],
      "source": [
        "#Imports \n",
        "import pandas as pd\n",
        "import json\n",
        "import numpy as np\n",
        "import re\n",
        "import os\n",
        "import torch\n",
        "import torch.nn as nn\n",
        "import torch.optim as optim\n",
        "from torch.optim import lr_scheduler\n",
        "import torch.backends.cudnn as cudnn\n",
        "import torchvision\n",
        "from torchvision import datasets, models, transforms, utils\n",
        "from torch.utils.data import Dataset, DataLoader\n",
        "from skimage import io, transform\n",
        "import torchvision.models as models"
      ]
    },
    {
      "cell_type": "code",
      "execution_count": 3,
      "id": "BA1l0kE4xf7L",
      "metadata": {
        "colab": {
          "base_uri": "https://localhost:8080/"
        },
        "id": "BA1l0kE4xf7L",
        "outputId": "0294552a-f853-455e-f661-4398691228ef"
      },
      "outputs": [
        {
          "data": {
            "text/plain": [
              "<torch._C.Generator at 0x10ec6a0f0>"
            ]
          },
          "execution_count": 3,
          "metadata": {},
          "output_type": "execute_result"
        }
      ],
      "source": [
        "DEVICE = \"cuda\" if torch.cuda.is_available() else \"cpu\"\n",
        "torch.manual_seed(42)"
      ]
    },
    {
      "cell_type": "code",
      "execution_count": 42,
      "id": "fcf032a1",
      "metadata": {
        "id": "fcf032a1"
      },
      "outputs": [],
      "source": [
        "dataset = pd.read_csv('https://raw.githubusercontent.com/google-research-datasets/taperception/main/rico_tap_annotations_idsonly.csv')\n",
        "dataset_test = dataset[dataset['split']=='test']\n",
        "dataset_train = dataset[dataset['split']=='train']\n",
        "\n",
        "json_dir = #add path\n",
        "img_dir = #add path\n"
      ]
    },
    {
      "cell_type": "code",
      "execution_count": 43,
      "id": "77ef5bf0",
      "metadata": {},
      "outputs": [],
      "source": [
        "#HYPERPARAMETER TURNING & DATASET SIZE\n",
        "\n",
        "# #full dataset\n",
        "# batch_sze = 1024\n",
        "# epoch_sze = 1500\n",
        "\n",
        "#smaller dataset (change values as you please)\n",
        "batch_sze = 1\n",
        "epoch_sze = 15\n",
        "dataset_test = dataset_test[0:int(np.ceil(len(dataset_test)/10))].reset_index(drop=True)\n",
        "dataset_train = dataset_train[0:int(np.ceil(len(dataset_train))/10)].reset_index(drop=True)"
      ]
    },
    {
      "cell_type": "code",
      "execution_count": null,
      "id": "ebdb0c42",
      "metadata": {
        "colab": {
          "base_uri": "https://localhost:8080/",
          "height": 206
        },
        "id": "ebdb0c42",
        "outputId": "fcd7a926-eb22-4de8-d068-be2087df78ef"
      },
      "outputs": [],
      "source": [
        "dataset_train.head()"
      ]
    },
    {
      "cell_type": "code",
      "execution_count": null,
      "id": "2a611fac",
      "metadata": {},
      "outputs": [],
      "source": [
        "dataset_test.head()"
      ]
    },
    {
      "cell_type": "code",
      "execution_count": 108,
      "id": "39c2c58e",
      "metadata": {
        "id": "39c2c58e"
      },
      "outputs": [],
      "source": [
        "class image:\n",
        "    \"\"\"\n",
        "    stores the image bounds and related json file to each image. \n",
        "    stores all existing image objects in array. \n",
        "    \"\"\"\n",
        "\n",
        "    _all = []\n",
        "    \n",
        "    def __init__(self, image_id, json_file):\n",
        "        self.image_id = image_id\n",
        "        self.json_file = json_file\n",
        "        self.image_bounds = self.json_file['activity']['root']['rel-bounds']\n",
        "        self.image_bounds_height = self.image_bounds[3]\n",
        "        self.image_bounds_width = self.image_bounds[2]\n",
        "\n",
        "        image._all.append(self)\n",
        "\n",
        "    @classmethod\n",
        "    def all(cls):\n",
        "        return cls._all\n",
        "    \n",
        "    def get_image_bounds_height(self):\n",
        "        return self.image_bounds_height\n",
        "\n",
        "    def get_image_bounds_width(self):\n",
        "        return self.image_bounds_width\n",
        "\n",
        "    def get_json_file(self):\n",
        "        return self.json_file\n",
        "\n",
        "    def list_objects(self):\n",
        "        \"\"\"\n",
        "        returns list of all objects owned by image\n",
        "        \"\"\"\n",
        "        image_objects = [img_obj for img_obj in img_obj.all() if img_obj.owner == self]\n",
        "        return image_objects\n"
      ]
    },
    {
      "cell_type": "code",
      "execution_count": 109,
      "id": "f169236c",
      "metadata": {},
      "outputs": [],
      "source": [
        "class img_obj:\n",
        "    \"\"\"\n",
        "    finds the bounds of an object within an image using the image json file. \n",
        "    stores object bounds. \n",
        "    stores all existing objects in array.\n",
        "    \"\"\"\n",
        "\n",
        "    _all = []\n",
        "\n",
        "    def __init__(self, object_id, image):\n",
        "        #object\n",
        "        self.object_bounds = []\n",
        "        self.object_id = object_id\n",
        "        self.image = image\n",
        "\n",
        "        img_obj._all.append(self)\n",
        "        self.find_object_bounds(self.image.get_json_file()) #calls method to find object bounds\n",
        "\n",
        "    @classmethod\n",
        "    def all(cls):\n",
        "        return cls._all\n",
        "\n",
        "    def find_object_bounds(self, dict_file):\n",
        "        \"\"\"\n",
        "        recurring method which loops through dictionary file to find the object id and returns bounds\n",
        "        TODO: fix this method. there has to be a better way. \n",
        "        \"\"\"\n",
        "        for key in dict_file:\n",
        "            if key == 'pointer' and dict_file['pointer'] == self.object_id:\n",
        "                self.set_object_bounds(dict_file['rel-bounds'])\n",
        "            if isinstance(dict_file[key], dict):\n",
        "                self.find_object_bounds(dict_file[key])\n",
        "            elif isinstance(dict_file[key], list):\n",
        "                self.find_object_bounds_lst(dict_file[key])\n",
        "\n",
        "    def find_object_bounds_lst(self, lst):\n",
        "        \"\"\"\n",
        "        recurring method which loops through list to find the object id and return bounds\n",
        "        \"\"\"\n",
        "        for item in lst:\n",
        "            if isinstance(item, dict):\n",
        "                self.find_object_bounds(item)\n",
        "            elif isinstance(item, list):\n",
        "                self.find_object_bounds_lst(item)\n",
        "\n",
        "    def get_object_bounds(self):\n",
        "        return self.object_bounds\n",
        "\n",
        "    def set_object_bounds(self, new_bounds):\n",
        "        self.object_bounds = new_bounds\n",
        "    "
      ]
    },
    {
      "cell_type": "code",
      "execution_count": 110,
      "id": "691e0e84",
      "metadata": {
        "id": "691e0e84"
      },
      "outputs": [],
      "source": [
        "class applyMask(object):\n",
        "\n",
        "    \"\"\"\n",
        "    Matrix multiplication of the RGB image and a binary mask of the object\n",
        "    \"\"\"\n",
        "\n",
        "    def __call__(self, sample):\n",
        "        \n",
        "        image = sample['image']\n",
        "        \n",
        "        object_bounds, height, width = self.get_bounds(sample['image_id'], sample['object_id'])\n",
        "        \n",
        "        binary_mask = np.zeros(shape=(image.shape[0], image.shape[1]))\n",
        "        x_ratio_min = object_bounds[0]/width\n",
        "        x_ratio_max = object_bounds[2]/width\n",
        "        y_ratio_min = object_bounds[1]/height\n",
        "        y_ratio_max = object_bounds[3]/height\n",
        "        \n",
        "        for x in range(image.shape[0]):\n",
        "            for y in range(image.shape[1]):\n",
        "                if x_ratio_min <= x/image.shape[0] < x_ratio_max and y_ratio_min <= y/image.shape[1] < y_ratio_max:\n",
        "                    binary_mask[x,y] = 1 #sets binary mask value to 1 if within tappable bounds\n",
        "        concat = np.dstack((image, binary_mask)) #matrix multiplication of image and binary mask\n",
        "        return {'image': concat, 'label': sample['label']}\n",
        "\n",
        "    def get_bounds(self, image_id, object_id):\n",
        "        \"\"\"\n",
        "        Returns bounds of the object and image\n",
        "        \"\"\"\n",
        "\n",
        "        #loads json file for specific image id\n",
        "        json_file = open(json_dir + str(image_id) + '.json') \n",
        "        image_json = json.load(json_file)\n",
        "\n",
        "        #checks if image obect is created \n",
        "        image_match = [image for image in image.all() if image.image_id == image_id]\n",
        "        if len(image_match) == 0:\n",
        "            #if no, create image object\n",
        "            img = image(image_id, image_json)\n",
        "        else:\n",
        "            img = image_match[0]\n",
        "        obj = img_obj(object_id, img) #create object\n",
        "        return obj.get_object_bounds(), img.get_image_bounds_height(), img.get_image_bounds_width()\n",
        "        \n",
        "class ToTensor(object):\n",
        "    \"\"\"Convert ndarrays in sample to Tensors.\"\"\"\n",
        "\n",
        "    def __call__(self, sample):\n",
        "        image, label = sample['image'], sample['label']\n",
        "\n",
        "        # swap color axis because\n",
        "        # numpy image: H x W x C\n",
        "        # torch image: C x H x W\n",
        "        image = image.transpose((2, 0, 1))\n",
        "        return {'image': torch.from_numpy(image),\n",
        "                'label': label}"
      ]
    },
    {
      "cell_type": "code",
      "execution_count": 115,
      "id": "1a1e7f4a",
      "metadata": {
        "id": "1a1e7f4a"
      },
      "outputs": [],
      "source": [
        "class Tappable(Dataset):\n",
        "    \"\"\"\n",
        "    Creates dataset from the csv of labelled image and object ids\n",
        "    \"\"\"\n",
        "\n",
        "    def __init__(self,root_dir, dataset, transform=None):\n",
        "        self.root_dir = root_dir\n",
        "        self.transform = transform\n",
        "        self.dataset = dataset\n",
        "\n",
        "    def __len__(self):\n",
        "        return len(self.dataset)\n",
        "\n",
        "    def __getitem__(self, idx):\n",
        "        if torch.is_tensor(idx):\n",
        "            idx = idx.tolist()\n",
        "\n",
        "        image_id = self.dataset.iloc[idx, 0]\n",
        "        object_id = self.dataset.iloc[idx, 1]\n",
        "\n",
        "        img_name = os.path.join(self.root_dir,\n",
        "                                str(image_id) + \".jpg\", )\n",
        "        \n",
        "        image = io.imread(img_name)\n",
        "        image = transform.resize(image, (960, 540))\n",
        "        \n",
        "        label = self.dataset.iloc[idx, 3]\n",
        "        \n",
        "        sample = {'image': image, 'image_id': image_id, 'object_id': object_id, 'label': int(label) }\n",
        "        \n",
        "        if self.transform:\n",
        "            sample_out = self.transform(sample)\n",
        "\n",
        "        return sample_out"
      ]
    },
    {
      "cell_type": "code",
      "execution_count": 112,
      "id": "gbq-rDlFYQ69",
      "metadata": {
        "id": "gbq-rDlFYQ69"
      },
      "outputs": [],
      "source": [
        "#resnet18 cnn model \n",
        "class Block(nn.Module):\n",
        "    def __init__(self, num_layers, in_channels, out_channels, identity_downsample=None, stride=1):\n",
        "        super(Block, self).__init__()\n",
        "        self.num_layers = num_layers\n",
        "        self.expansion = 1\n",
        "        self.conv1 = nn.Conv2d(in_channels, out_channels, kernel_size=1, stride=1, padding=0)\n",
        "        self.bn1 = nn.BatchNorm2d(out_channels)\n",
        "        self.conv2 = nn.Conv2d(in_channels, out_channels, kernel_size=3, stride=stride, padding=1)\n",
        "        self.bn2 = nn.BatchNorm2d(out_channels)\n",
        "        self.conv3 = nn.Conv2d(out_channels, out_channels * self.expansion, kernel_size=1, stride=1, padding=0)\n",
        "        self.bn3 = nn.BatchNorm2d(out_channels * self.expansion)\n",
        "        self.relu = nn.ReLU()\n",
        "        self.identity_downsample = identity_downsample\n",
        "\n",
        "    def forward(self, x):\n",
        "        identity = x\n",
        "        x = self.conv2(x)\n",
        "        x = self.bn2(x)\n",
        "        x = self.relu(x)\n",
        "        x = self.conv3(x)\n",
        "        x = self.bn3(x)\n",
        "\n",
        "        if self.identity_downsample is not None:\n",
        "            identity = self.identity_downsample(identity)\n",
        "\n",
        "        x += identity\n",
        "        x = self.relu(x)\n",
        "        return x\n",
        "\n",
        "class ResNet(nn.Module):\n",
        "    def __init__(self, num_layers, block, image_channels, num_classes):\n",
        "        super(ResNet, self).__init__()\n",
        "        self.expansion = 1\n",
        "        layers = [2, 2, 2, 2] #resnet 18\n",
        "        self.in_channels = 64\n",
        "        self.conv1 = nn.Conv2d(image_channels, 64, kernel_size=7, stride=2, padding=3)\n",
        "        self.bn1 = nn.BatchNorm2d(64)\n",
        "        self.relu = nn.ReLU()\n",
        "        self.maxpool = nn.MaxPool2d(kernel_size=3, stride=2, padding=1)\n",
        "\n",
        "        # ResNetLayers\n",
        "        self.layer1 = self.make_layers(num_layers, block, layers[0], intermediate_channels=64, stride=1)\n",
        "        self.layer2 = self.make_layers(num_layers, block, layers[1], intermediate_channels=128, stride=2)\n",
        "        self.layer3 = self.make_layers(num_layers, block, layers[2], intermediate_channels=256, stride=2)\n",
        "        self.layer4 = self.make_layers(num_layers, block, layers[3], intermediate_channels=512, stride=2)\n",
        "\n",
        "        self.avgpool = nn.AdaptiveAvgPool2d((1, 1))\n",
        "        self.fc = nn.Linear(512 * self.expansion, num_classes)\n",
        "\n",
        "    def forward(self, x):\n",
        "        x = self.conv1(x)\n",
        "        x = self.bn1(x)\n",
        "        x = self.relu(x)\n",
        "        x = self.maxpool(x)\n",
        "\n",
        "        x = self.layer1(x)\n",
        "        x = self.layer2(x)\n",
        "        x = self.layer3(x)\n",
        "        x = self.layer4(x)\n",
        "\n",
        "        x = self.avgpool(x)\n",
        "        x = x.reshape(x.shape[0], -1)\n",
        "        x = self.fc(x)\n",
        "        return x\n",
        "\n",
        "    def make_layers(self, num_layers, block, num_residual_blocks, intermediate_channels, stride):\n",
        "        layers = []\n",
        "\n",
        "        identity_downsample = nn.Sequential(nn.Conv2d(self.in_channels, intermediate_channels*self.expansion, kernel_size=1, stride=stride),\n",
        "                                            nn.BatchNorm2d(intermediate_channels*self.expansion))\n",
        "        layers.append(block(num_layers, self.in_channels, intermediate_channels, identity_downsample, stride))\n",
        "        self.in_channels = intermediate_channels * self.expansion\n",
        "        for i in range(num_residual_blocks - 1):\n",
        "            layers.append(block(num_layers, self.in_channels, intermediate_channels)) \n",
        "        return nn.Sequential(*layers)"
      ]
    },
    {
      "cell_type": "code",
      "execution_count": 116,
      "id": "464161d4",
      "metadata": {},
      "outputs": [],
      "source": [
        "train_dataset = Tappable(dataset= dataset_train,\n",
        "                         root_dir= img_dir,\n",
        "                         transform=transforms.Compose([\n",
        "                         applyMask(),\n",
        "                         ToTensor()\n",
        "                         ]))\n",
        "\n",
        "test_dataset = Tappable(dataset= dataset_test,\n",
        "                        root_dir= img_dir,\n",
        "                        transform=transforms.Compose([\n",
        "                        applyMask(),\n",
        "                        ToTensor()\n",
        "                        ]))\n",
        "#batch size should be 1024\n",
        "dataloader_train = DataLoader(train_dataset,batch_size=20, shuffle=True, pin_memory=True if DEVICE == \"cuda\" else False)\n",
        "dataloader_test = DataLoader(test_dataset,batch_size=20, shuffle=True, pin_memory=True if DEVICE == \"cuda\" else False)"
      ]
    },
    {
      "cell_type": "code",
      "execution_count": null,
      "id": "616441da",
      "metadata": {
        "id": "616441da"
      },
      "outputs": [],
      "source": [
        "model = ResNet(18, Block, 4, 1000)\n",
        "model = model.to(DEVICE)\n",
        "\n",
        "#loss\n",
        "criterion = nn.CrossEntropyLoss()\n",
        "\n",
        "#lr - reduces epoch by factor 10 at specific epoch times\n",
        "optimizer = optim.SGD(model.parameters(), lr=0.05, nesterov=True, momentum = 0.9)\n",
        "lambda_lr = lambda epoch: 0.1 ** epoch if epoch in [100, 500, 1000, 1300] else 1\n",
        "lr_scheduler = optim.lr_scheduler.LambdaLR(\n",
        "   optimizer=optimizer,\n",
        "   lr_lambda = lambda_lr\n",
        ")"
      ]
    },
    {
      "cell_type": "code",
      "execution_count": null,
      "id": "89da90f1",
      "metadata": {
        "colab": {
          "background_save": true,
          "base_uri": "https://localhost:8080/"
        },
        "id": "89da90f1",
        "outputId": "a4293eeb-724d-46b3-f1ef-fad32583ece1"
      },
      "outputs": [
        {
          "name": "stdout",
          "output_type": "stream",
          "text": [
            "Epoch 1\n",
            "\n",
            "torch.Size([20, 4, 960, 540])\n"
          ]
        },
        {
          "ename": "KeyboardInterrupt",
          "evalue": "",
          "output_type": "error",
          "traceback": [
            "\u001b[0;31m---------------------------------------------------------------------------\u001b[0m",
            "\u001b[0;31mKeyboardInterrupt\u001b[0m                         Traceback (most recent call last)",
            "\u001b[1;32m/Users/em.ily/Documents/GitHub/FIT3170_Usability_Accessibility_Testing_App/tappable/tappable.ipynb Cell 16\u001b[0m in \u001b[0;36m<cell line: 8>\u001b[0;34m()\u001b[0m\n\u001b[1;32m     <a href='vscode-notebook-cell:/Users/em.ily/Documents/GitHub/FIT3170_Usability_Accessibility_Testing_App/tappable/tappable.ipynb#ch0000015?line=12'>13</a>\u001b[0m inputs, labels \u001b[39m=\u001b[39m item[\u001b[39m'\u001b[39m\u001b[39mimage\u001b[39m\u001b[39m'\u001b[39m]\u001b[39m.\u001b[39mtype(torch\u001b[39m.\u001b[39mFloatTensor)\u001b[39m.\u001b[39mto(DEVICE), item[\u001b[39m'\u001b[39m\u001b[39mlabel\u001b[39m\u001b[39m'\u001b[39m]\u001b[39m.\u001b[39mtype(torch\u001b[39m.\u001b[39mLongTensor)\u001b[39m.\u001b[39mto(DEVICE)\n\u001b[1;32m     <a href='vscode-notebook-cell:/Users/em.ily/Documents/GitHub/FIT3170_Usability_Accessibility_Testing_App/tappable/tappable.ipynb#ch0000015?line=13'>14</a>\u001b[0m optimizer\u001b[39m.\u001b[39mzero_grad()\n\u001b[0;32m---> <a href='vscode-notebook-cell:/Users/em.ily/Documents/GitHub/FIT3170_Usability_Accessibility_Testing_App/tappable/tappable.ipynb#ch0000015?line=14'>15</a>\u001b[0m outputs \u001b[39m=\u001b[39m model(inputs)\n\u001b[1;32m     <a href='vscode-notebook-cell:/Users/em.ily/Documents/GitHub/FIT3170_Usability_Accessibility_Testing_App/tappable/tappable.ipynb#ch0000015?line=15'>16</a>\u001b[0m loss \u001b[39m=\u001b[39m criterion(outputs, labels)\n\u001b[1;32m     <a href='vscode-notebook-cell:/Users/em.ily/Documents/GitHub/FIT3170_Usability_Accessibility_Testing_App/tappable/tappable.ipynb#ch0000015?line=16'>17</a>\u001b[0m loss\u001b[39m.\u001b[39mbackward()\n",
            "File \u001b[0;32m~/miniforge3/envs/fit3170/lib/python3.10/site-packages/torch/nn/modules/module.py:1130\u001b[0m, in \u001b[0;36mModule._call_impl\u001b[0;34m(self, *input, **kwargs)\u001b[0m\n\u001b[1;32m   1126\u001b[0m \u001b[39m# If we don't have any hooks, we want to skip the rest of the logic in\u001b[39;00m\n\u001b[1;32m   1127\u001b[0m \u001b[39m# this function, and just call forward.\u001b[39;00m\n\u001b[1;32m   1128\u001b[0m \u001b[39mif\u001b[39;00m \u001b[39mnot\u001b[39;00m (\u001b[39mself\u001b[39m\u001b[39m.\u001b[39m_backward_hooks \u001b[39mor\u001b[39;00m \u001b[39mself\u001b[39m\u001b[39m.\u001b[39m_forward_hooks \u001b[39mor\u001b[39;00m \u001b[39mself\u001b[39m\u001b[39m.\u001b[39m_forward_pre_hooks \u001b[39mor\u001b[39;00m _global_backward_hooks\n\u001b[1;32m   1129\u001b[0m         \u001b[39mor\u001b[39;00m _global_forward_hooks \u001b[39mor\u001b[39;00m _global_forward_pre_hooks):\n\u001b[0;32m-> 1130\u001b[0m     \u001b[39mreturn\u001b[39;00m forward_call(\u001b[39m*\u001b[39;49m\u001b[39minput\u001b[39;49m, \u001b[39m*\u001b[39;49m\u001b[39m*\u001b[39;49mkwargs)\n\u001b[1;32m   1131\u001b[0m \u001b[39m# Do not call functions when jit is used\u001b[39;00m\n\u001b[1;32m   1132\u001b[0m full_backward_hooks, non_full_backward_hooks \u001b[39m=\u001b[39m [], []\n",
            "\u001b[1;32m/Users/em.ily/Documents/GitHub/FIT3170_Usability_Accessibility_Testing_App/tappable/tappable.ipynb Cell 16\u001b[0m in \u001b[0;36mResNet.forward\u001b[0;34m(self, x)\u001b[0m\n\u001b[1;32m     <a href='vscode-notebook-cell:/Users/em.ily/Documents/GitHub/FIT3170_Usability_Accessibility_Testing_App/tappable/tappable.ipynb#ch0000015?line=50'>51</a>\u001b[0m \u001b[39mdef\u001b[39;00m \u001b[39mforward\u001b[39m(\u001b[39mself\u001b[39m, x):\n\u001b[1;32m     <a href='vscode-notebook-cell:/Users/em.ily/Documents/GitHub/FIT3170_Usability_Accessibility_Testing_App/tappable/tappable.ipynb#ch0000015?line=51'>52</a>\u001b[0m     \u001b[39mprint\u001b[39m(x\u001b[39m.\u001b[39mshape)\n\u001b[0;32m---> <a href='vscode-notebook-cell:/Users/em.ily/Documents/GitHub/FIT3170_Usability_Accessibility_Testing_App/tappable/tappable.ipynb#ch0000015?line=52'>53</a>\u001b[0m     x \u001b[39m=\u001b[39m \u001b[39mself\u001b[39;49m\u001b[39m.\u001b[39;49mconv1(x)\n\u001b[1;32m     <a href='vscode-notebook-cell:/Users/em.ily/Documents/GitHub/FIT3170_Usability_Accessibility_Testing_App/tappable/tappable.ipynb#ch0000015?line=53'>54</a>\u001b[0m     x \u001b[39m=\u001b[39m \u001b[39mself\u001b[39m\u001b[39m.\u001b[39mbn1(x)\n\u001b[1;32m     <a href='vscode-notebook-cell:/Users/em.ily/Documents/GitHub/FIT3170_Usability_Accessibility_Testing_App/tappable/tappable.ipynb#ch0000015?line=54'>55</a>\u001b[0m     x \u001b[39m=\u001b[39m \u001b[39mself\u001b[39m\u001b[39m.\u001b[39mrelu(x)\n",
            "File \u001b[0;32m~/miniforge3/envs/fit3170/lib/python3.10/site-packages/torch/nn/modules/module.py:1130\u001b[0m, in \u001b[0;36mModule._call_impl\u001b[0;34m(self, *input, **kwargs)\u001b[0m\n\u001b[1;32m   1126\u001b[0m \u001b[39m# If we don't have any hooks, we want to skip the rest of the logic in\u001b[39;00m\n\u001b[1;32m   1127\u001b[0m \u001b[39m# this function, and just call forward.\u001b[39;00m\n\u001b[1;32m   1128\u001b[0m \u001b[39mif\u001b[39;00m \u001b[39mnot\u001b[39;00m (\u001b[39mself\u001b[39m\u001b[39m.\u001b[39m_backward_hooks \u001b[39mor\u001b[39;00m \u001b[39mself\u001b[39m\u001b[39m.\u001b[39m_forward_hooks \u001b[39mor\u001b[39;00m \u001b[39mself\u001b[39m\u001b[39m.\u001b[39m_forward_pre_hooks \u001b[39mor\u001b[39;00m _global_backward_hooks\n\u001b[1;32m   1129\u001b[0m         \u001b[39mor\u001b[39;00m _global_forward_hooks \u001b[39mor\u001b[39;00m _global_forward_pre_hooks):\n\u001b[0;32m-> 1130\u001b[0m     \u001b[39mreturn\u001b[39;00m forward_call(\u001b[39m*\u001b[39;49m\u001b[39minput\u001b[39;49m, \u001b[39m*\u001b[39;49m\u001b[39m*\u001b[39;49mkwargs)\n\u001b[1;32m   1131\u001b[0m \u001b[39m# Do not call functions when jit is used\u001b[39;00m\n\u001b[1;32m   1132\u001b[0m full_backward_hooks, non_full_backward_hooks \u001b[39m=\u001b[39m [], []\n",
            "File \u001b[0;32m~/miniforge3/envs/fit3170/lib/python3.10/site-packages/torch/nn/modules/conv.py:457\u001b[0m, in \u001b[0;36mConv2d.forward\u001b[0;34m(self, input)\u001b[0m\n\u001b[1;32m    456\u001b[0m \u001b[39mdef\u001b[39;00m \u001b[39mforward\u001b[39m(\u001b[39mself\u001b[39m, \u001b[39minput\u001b[39m: Tensor) \u001b[39m-\u001b[39m\u001b[39m>\u001b[39m Tensor:\n\u001b[0;32m--> 457\u001b[0m     \u001b[39mreturn\u001b[39;00m \u001b[39mself\u001b[39;49m\u001b[39m.\u001b[39;49m_conv_forward(\u001b[39minput\u001b[39;49m, \u001b[39mself\u001b[39;49m\u001b[39m.\u001b[39;49mweight, \u001b[39mself\u001b[39;49m\u001b[39m.\u001b[39;49mbias)\n",
            "File \u001b[0;32m~/miniforge3/envs/fit3170/lib/python3.10/site-packages/torch/nn/modules/conv.py:453\u001b[0m, in \u001b[0;36mConv2d._conv_forward\u001b[0;34m(self, input, weight, bias)\u001b[0m\n\u001b[1;32m    449\u001b[0m \u001b[39mif\u001b[39;00m \u001b[39mself\u001b[39m\u001b[39m.\u001b[39mpadding_mode \u001b[39m!=\u001b[39m \u001b[39m'\u001b[39m\u001b[39mzeros\u001b[39m\u001b[39m'\u001b[39m:\n\u001b[1;32m    450\u001b[0m     \u001b[39mreturn\u001b[39;00m F\u001b[39m.\u001b[39mconv2d(F\u001b[39m.\u001b[39mpad(\u001b[39minput\u001b[39m, \u001b[39mself\u001b[39m\u001b[39m.\u001b[39m_reversed_padding_repeated_twice, mode\u001b[39m=\u001b[39m\u001b[39mself\u001b[39m\u001b[39m.\u001b[39mpadding_mode),\n\u001b[1;32m    451\u001b[0m                     weight, bias, \u001b[39mself\u001b[39m\u001b[39m.\u001b[39mstride,\n\u001b[1;32m    452\u001b[0m                     _pair(\u001b[39m0\u001b[39m), \u001b[39mself\u001b[39m\u001b[39m.\u001b[39mdilation, \u001b[39mself\u001b[39m\u001b[39m.\u001b[39mgroups)\n\u001b[0;32m--> 453\u001b[0m \u001b[39mreturn\u001b[39;00m F\u001b[39m.\u001b[39;49mconv2d(\u001b[39minput\u001b[39;49m, weight, bias, \u001b[39mself\u001b[39;49m\u001b[39m.\u001b[39;49mstride,\n\u001b[1;32m    454\u001b[0m                 \u001b[39mself\u001b[39;49m\u001b[39m.\u001b[39;49mpadding, \u001b[39mself\u001b[39;49m\u001b[39m.\u001b[39;49mdilation, \u001b[39mself\u001b[39;49m\u001b[39m.\u001b[39;49mgroups)\n",
            "\u001b[0;31mKeyboardInterrupt\u001b[0m: "
          ]
        }
      ],
      "source": [
        "n_epochs = 2 #should be 1500\n",
        "test_loss = []\n",
        "train_loss = []\n",
        "total_step_train = len(dataloader_train)\n",
        "total_step_test = len(dataloader_test)\n",
        "valid_loss_min = np.Inf\n",
        "\n",
        "for epoch in range(1, n_epochs+1):\n",
        "    model.train()\n",
        "    running_loss = 0.0\n",
        "    print(f'Epoch {epoch}\\n')\n",
        "    for batch_idx, item in enumerate(dataloader_train):\n",
        "        inputs, labels = item['image'].type(torch.FloatTensor).to(DEVICE), item['label'].type(torch.LongTensor).to(DEVICE)\n",
        "        optimizer.zero_grad()\n",
        "        outputs = model(inputs)\n",
        "        loss = criterion(outputs, labels)\n",
        "        loss.backward()\n",
        "        optimizer.step()\n",
        "        running_loss += loss.item()\n",
        "        if (batch_idx) % 20 == 0:\n",
        "            print('Epoch [{}/{}], Step [{}/{}], Train Loss: {:.4f}'\n",
        "                   .format(epoch, n_epochs, batch_idx, total_step_train, loss.item()))\n",
        "    train_loss.append(running_loss/total_step_train)\n",
        "    lr_scheduler.step()\n",
        "\n",
        "    model.eval()\n",
        "    batch_loss = 0\n",
        "    for batch_idx, item in enumerate(dataloader_test):\n",
        "      data_t, target_t = item['image'].type(torch.FloatTensor).to(DEVICE), item['label'].type(torch.LongTensor).to(DEVICE)\n",
        "      outputs_t = model(data_t)\n",
        "      loss_t = criterion(outputs_t, target_t)\n",
        "      batch_loss += loss_t.item()\n",
        "      if (batch_idx) % 20 == 0:\n",
        "            print('Epoch [{}/{}], Step [{}/{}], Test Loss: {:.4f}'\n",
        "                   .format(epoch, n_epochs, batch_idx, total_step_test, loss_t.item()))\n",
        "\n",
        "    test_loss.append(batch_loss/total_step_test)\n",
        "\n",
        "    print(f'\\ntrain-loss: {np.mean(train_loss):.4f}, test-loss: {np.mean(test_loss):.4f}')\n",
        "\n",
        "    network_learned = batch_loss < valid_loss_min\n",
        "\n",
        "    if network_learned:\n",
        "          valid_loss_min = batch_loss\n",
        "          torch.save(model.state_dict(), 'resnet.pt')\n",
        "          print('Improvement-Detected, save-model')"
      ]
    }
  ],
  "metadata": {
    "accelerator": "GPU",
    "colab": {
      "collapsed_sections": [],
      "name": "tappable.ipynb",
      "provenance": []
    },
    "gpuClass": "standard",
    "kernelspec": {
      "display_name": "Python 3.10.5 ('fit3170')",
      "language": "python",
      "name": "python3"
    },
    "language_info": {
      "codemirror_mode": {
        "name": "ipython",
        "version": 3
      },
      "file_extension": ".py",
      "mimetype": "text/x-python",
      "name": "python",
      "nbconvert_exporter": "python",
      "pygments_lexer": "ipython3",
      "version": "3.10.5"
    },
    "vscode": {
      "interpreter": {
        "hash": "db9f884420d89a79bf1728617c543a9611c152edc12e7810ea01e99d40f0dfd0"
      }
    }
  },
  "nbformat": 4,
  "nbformat_minor": 5
}
